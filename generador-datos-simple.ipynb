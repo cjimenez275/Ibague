{
 "cells": [
  {
   "cell_type": "markdown",
   "id": "a4f71af2",
   "metadata": {},
   "source": [
    "# Generador de datos\n",
    "\n",
    "En este notebook se muestra la generación de datos aleatorios, pseudoaleatorios y \n",
    "de calendario. Para explorar más sobre la generación de fechas, explorarar su documentación.\n",
    "https://docs.python.org/es/3/library/datetime.html\n",
    "    "
   ]
  },
  {
   "cell_type": "code",
   "execution_count": 82,
   "id": "0b045ce6",
   "metadata": {},
   "outputs": [],
   "source": [
    "import pandas as pd\n",
    "import random\n",
    "import datetime\n",
    "import matplotlib.pyplot as plt\n",
    "import seaborn as sns"
   ]
  },
  {
   "cell_type": "markdown",
   "id": "69b0711a",
   "metadata": {},
   "source": [
    "Parámetros iniciales"
   ]
  },
  {
   "cell_type": "code",
   "execution_count": 83,
   "id": "691a1e29",
   "metadata": {},
   "outputs": [],
   "source": [
    "N = 100\n",
    "valm, ds = 0, 1\n",
    "fecha = []\n",
    "list1 = []\n",
    "list2 = []\n",
    "items = [\"ref_A\", \"ref_B\", \"ref_C\"]\n",
    "start_date = datetime.date(2022, 1, 1)\n",
    "end_date = datetime.date(2022, 12, 31)\n",
    "dt = end_date - start_date\n",
    "days_between_dates = dt.days"
   ]
  },
  {
   "cell_type": "markdown",
   "id": "926b31ca",
   "metadata": {},
   "source": [
    "## 1. Generación de datos y fechas pseudo-aleatorios"
   ]
  },
  {
   "cell_type": "code",
   "execution_count": 84,
   "id": "19593c08",
   "metadata": {},
   "outputs": [],
   "source": [
    "for i in range(N):\n",
    "    random_number_of_days = random.randrange(days_between_dates)\n",
    "    random_date = start_date + datetime.timedelta(days=random_number_of_days)\n",
    "    fecha.append(random_date)\n",
    "    list1.append(random.gauss(valm, ds))\n",
    "    list2.append(random.choice(items))"
   ]
  },
  {
   "cell_type": "code",
   "execution_count": 85,
   "id": "3a33e59c",
   "metadata": {
    "scrolled": true
   },
   "outputs": [
    {
     "name": "stdout",
     "output_type": "stream",
     "text": [
      "       Datos Referencia       Fecha\n",
      "0   1.026267      ref_A  2022-04-06\n",
      "1  -1.594472      ref_B  2022-03-03\n",
      "2  -0.304358      ref_A  2022-12-24\n",
      "3  -0.652752      ref_A  2022-11-21\n",
      "4  -1.818988      ref_B  2022-12-24\n",
      "..       ...        ...         ...\n",
      "95 -1.955315      ref_C  2022-09-16\n",
      "96 -0.436047      ref_B  2022-06-08\n",
      "97 -0.114516      ref_C  2022-08-11\n",
      "98 -0.491844      ref_C  2022-10-15\n",
      "99 -1.458200      ref_B  2022-10-12\n",
      "\n",
      "[100 rows x 3 columns]\n"
     ]
    }
   ],
   "source": [
    "datos = pd.DataFrame({\"Datos\":list1, \"Referencia\":list2, \"Fecha\":fecha})\n",
    "datos.to_excel('datos-simples.xlsx', sheet_name='fecha')\n",
    "print(datos)"
   ]
  },
  {
   "cell_type": "code",
   "execution_count": 87,
   "id": "a808580d",
   "metadata": {},
   "outputs": [
    {
     "data": {
      "image/png": "[encoded data removed]",
      "text/plain": [
       "<Figure size 432x288 with 1 Axes>"
      ]
     },
     "metadata": {},
     "output_type": "display_data"
    }
   ],
   "source": [
    "sns.violinplot(data=datos, x=\"Datos\", y=\"Referencia\")\n",
    "plt.show()"
   ]
  },
  {
   "cell_type": "markdown",
   "id": "3bdd79f7",
   "metadata": {},
   "source": [
    "## 2. Generación de datos igualmente espaciados"
   ]
  },
  {
   "cell_type": "code",
   "execution_count": 88,
   "id": "b0076bd9",
   "metadata": {},
   "outputs": [
    {
     "name": "stdout",
     "output_type": "stream",
     "text": [
      "       Fecha\n",
      "0 2022-07-01\n",
      "1 2022-07-02\n",
      "2 2022-07-03\n",
      "3 2022-07-04\n",
      "4 2022-07-05\n",
      "5 2022-07-06\n",
      "6 2022-07-07\n",
      "7 2022-07-08\n",
      "8 2022-07-09\n",
      "9 2022-07-10\n"
     ]
    }
   ],
   "source": [
    "# inicializamos datos\n",
    "test_date = datetime.datetime.strptime(\"01-7-2022\", \"%d-%m-%Y\")\n",
    " \n",
    "# Definimos el periodo\n",
    "T= 10\n",
    "\n",
    "# Generamos T datos\n",
    "date_generated = pd.date_range(test_date, periods=T)\n",
    "\n",
    "data2 = pd.DataFrame({\"Fecha\":date_generated})\n",
    "data2.to_excel('data2.xlsx', sheet_name='fecha')\n",
    "print(data2) "
   ]
  },
  {
   "cell_type": "code",
   "execution_count": 89,
   "id": "d53c1df1",
   "metadata": {},
   "outputs": [
    {
     "data": {
      "text/html": [
       "<div>\n",
       "<style scoped>\n",
       "    .dataframe tbody tr th:only-of-type {\n",
       "        vertical-align: middle;\n",
       "    }\n",
       "\n",
       "    .dataframe tbody tr th {\n",
       "        vertical-align: top;\n",
       "    }\n",
       "\n",
       "    .dataframe thead th {\n",
       "        text-align: right;\n",
       "    }\n",
       "</style>\n",
       "<table border=\"1\" class=\"dataframe\">\n",
       "  <thead>\n",
       "    <tr style=\"text-align: right;\">\n",
       "      <th></th>\n",
       "      <th>Fecha</th>\n",
       "      <th>Valor</th>\n",
       "    </tr>\n",
       "  </thead>\n",
       "  <tbody>\n",
       "    <tr>\n",
       "      <th>0</th>\n",
       "      <td>2022-07-01</td>\n",
       "      <td>9.637928</td>\n",
       "    </tr>\n",
       "    <tr>\n",
       "      <th>1</th>\n",
       "      <td>2022-07-02</td>\n",
       "      <td>9.777090</td>\n",
       "    </tr>\n",
       "    <tr>\n",
       "      <th>2</th>\n",
       "      <td>2022-07-03</td>\n",
       "      <td>10.881466</td>\n",
       "    </tr>\n",
       "    <tr>\n",
       "      <th>3</th>\n",
       "      <td>2022-07-04</td>\n",
       "      <td>9.123221</td>\n",
       "    </tr>\n",
       "    <tr>\n",
       "      <th>4</th>\n",
       "      <td>2022-07-05</td>\n",
       "      <td>9.906295</td>\n",
       "    </tr>\n",
       "    <tr>\n",
       "      <th>5</th>\n",
       "      <td>2022-07-06</td>\n",
       "      <td>8.824430</td>\n",
       "    </tr>\n",
       "    <tr>\n",
       "      <th>6</th>\n",
       "      <td>2022-07-07</td>\n",
       "      <td>8.615807</td>\n",
       "    </tr>\n",
       "    <tr>\n",
       "      <th>7</th>\n",
       "      <td>2022-07-08</td>\n",
       "      <td>8.674339</td>\n",
       "    </tr>\n",
       "    <tr>\n",
       "      <th>8</th>\n",
       "      <td>2022-07-09</td>\n",
       "      <td>10.201856</td>\n",
       "    </tr>\n",
       "    <tr>\n",
       "      <th>9</th>\n",
       "      <td>2022-07-10</td>\n",
       "      <td>8.019121</td>\n",
       "    </tr>\n",
       "  </tbody>\n",
       "</table>\n",
       "</div>"
      ],
      "text/plain": [
       "       Fecha      Valor\n",
       "0 2022-07-01   9.637928\n",
       "1 2022-07-02   9.777090\n",
       "2 2022-07-03  10.881466\n",
       "3 2022-07-04   9.123221\n",
       "4 2022-07-05   9.906295\n",
       "5 2022-07-06   8.824430\n",
       "6 2022-07-07   8.615807\n",
       "7 2022-07-08   8.674339\n",
       "8 2022-07-09  10.201856\n",
       "9 2022-07-10   8.019121"
      ]
     },
     "execution_count": 89,
     "metadata": {},
     "output_type": "execute_result"
    }
   ],
   "source": [
    "valores = []\n",
    "for i in range(T):\n",
    "    valores.append(random.gauss(10, 1))\n",
    "data2[\"Valor\"] = valores\n",
    "data2"
   ]
  },
  {
   "cell_type": "code",
   "execution_count": 90,
   "id": "845c0944",
   "metadata": {},
   "outputs": [
    {
     "data": {
      "image/png": "[encoded data removed]",
      "text/plain": [
       "<Figure size 972x216 with 1 Axes>"
      ]
     },
     "metadata": {},
     "output_type": "display_data"
    }
   ],
   "source": [
    "sns.set_theme(style=\"whitegrid\", context=\"talk\")\n",
    "sns.relplot(data=data2,\n",
    "           x=\"Fecha\",\n",
    "           y=\"Valor\", \n",
    "            kind =\"line\", \n",
    "            height=3, \n",
    "            aspect=4.5)\n",
    "plt.show()"
   ]
  }
 ],
 "metadata": {
  "kernelspec": {
   "display_name": "Python 3 (ipykernel)",
   "language": "python",
   "name": "python3"
  },
  "language_info": {
   "codemirror_mode": {
    "name": "ipython",
    "version": 3
   },
   "file_extension": ".py",
   "mimetype": "text/x-python",
   "name": "python",
   "nbconvert_exporter": "python",
   "pygments_lexer": "ipython3",
   "version": "3.9.12"
  }
 },
 "nbformat": 4,
 "nbformat_minor": 5
}
