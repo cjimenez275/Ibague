{
 "cells": [
  {
   "cell_type": "markdown",
   "id": "2dddae39",
   "metadata": {},
   "source": [
    "# Manejo de datos faltantes"
   ]
  },
  {
   "cell_type": "code",
   "execution_count": 1,
   "id": "5247a5e4",
   "metadata": {},
   "outputs": [],
   "source": [
    "import pandas as pd"
   ]
  },
  {
   "cell_type": "markdown",
   "id": "ec433da6",
   "metadata": {},
   "source": [
    "Cargamos los datos desde una carpeta a través de su ruta"
   ]
  },
  {
   "cell_type": "code",
   "execution_count": 4,
   "id": "33634d87",
   "metadata": {},
   "outputs": [],
   "source": [
    "datos = pd.read_csv(\"datos/clientes.csv\")"
   ]
  },
  {
   "cell_type": "code",
   "execution_count": 5,
   "id": "3278770d",
   "metadata": {},
   "outputs": [
    {
     "data": {
      "text/html": [
       "<div>\n",
       "<style scoped>\n",
       "    .dataframe tbody tr th:only-of-type {\n",
       "        vertical-align: middle;\n",
       "    }\n",
       "\n",
       "    .dataframe tbody tr th {\n",
       "        vertical-align: top;\n",
       "    }\n",
       "\n",
       "    .dataframe thead th {\n",
       "        text-align: right;\n",
       "    }\n",
       "</style>\n",
       "<table border=\"1\" class=\"dataframe\">\n",
       "  <thead>\n",
       "    <tr style=\"text-align: right;\">\n",
       "      <th></th>\n",
       "      <th>nombre</th>\n",
       "      <th>edad</th>\n",
       "      <th>ingreso</th>\n",
       "    </tr>\n",
       "  </thead>\n",
       "  <tbody>\n",
       "    <tr>\n",
       "      <th>0</th>\n",
       "      <td>Juan</td>\n",
       "      <td>35.0</td>\n",
       "      <td>15800.0</td>\n",
       "    </tr>\n",
       "    <tr>\n",
       "      <th>1</th>\n",
       "      <td>Luisa</td>\n",
       "      <td>25.0</td>\n",
       "      <td>17000.0</td>\n",
       "    </tr>\n",
       "    <tr>\n",
       "      <th>2</th>\n",
       "      <td>NaN</td>\n",
       "      <td>70.0</td>\n",
       "      <td>20000.0</td>\n",
       "    </tr>\n",
       "    <tr>\n",
       "      <th>3</th>\n",
       "      <td>Carmen</td>\n",
       "      <td>49.0</td>\n",
       "      <td>22000.0</td>\n",
       "    </tr>\n",
       "    <tr>\n",
       "      <th>4</th>\n",
       "      <td>NaN</td>\n",
       "      <td>NaN</td>\n",
       "      <td>NaN</td>\n",
       "    </tr>\n",
       "    <tr>\n",
       "      <th>5</th>\n",
       "      <td>Mario</td>\n",
       "      <td>30.0</td>\n",
       "      <td>15800.0</td>\n",
       "    </tr>\n",
       "    <tr>\n",
       "      <th>6</th>\n",
       "      <td>Pedro</td>\n",
       "      <td>NaN</td>\n",
       "      <td>17400.0</td>\n",
       "    </tr>\n",
       "    <tr>\n",
       "      <th>7</th>\n",
       "      <td>Gustavo</td>\n",
       "      <td>27.0</td>\n",
       "      <td>NaN</td>\n",
       "    </tr>\n",
       "    <tr>\n",
       "      <th>8</th>\n",
       "      <td>Carlos</td>\n",
       "      <td>NaN</td>\n",
       "      <td>NaN</td>\n",
       "    </tr>\n",
       "  </tbody>\n",
       "</table>\n",
       "</div>"
      ],
      "text/plain": [
       "    nombre  edad  ingreso\n",
       "0     Juan  35.0  15800.0\n",
       "1    Luisa  25.0  17000.0\n",
       "2      NaN  70.0  20000.0\n",
       "3   Carmen  49.0  22000.0\n",
       "4      NaN   NaN      NaN\n",
       "5    Mario  30.0  15800.0\n",
       "6    Pedro   NaN  17400.0\n",
       "7  Gustavo  27.0      NaN\n",
       "8   Carlos   NaN      NaN"
      ]
     },
     "execution_count": 5,
     "metadata": {},
     "output_type": "execute_result"
    }
   ],
   "source": [
    "datos"
   ]
  },
  {
   "cell_type": "code",
   "execution_count": 7,
   "id": "bd0238a3",
   "metadata": {},
   "outputs": [],
   "source": [
    "# .isnull()   muestra los datos faltantes"
   ]
  },
  {
   "cell_type": "code",
   "execution_count": 8,
   "id": "52d73d83",
   "metadata": {},
   "outputs": [
    {
     "name": "stdout",
     "output_type": "stream",
     "text": [
      "0       Juan\n",
      "1      Luisa\n",
      "2        NaN\n",
      "3     Carmen\n",
      "4        NaN\n",
      "5      Mario\n",
      "6      Pedro\n",
      "7    Gustavo\n",
      "8     Carlos\n",
      "Name: nombre, dtype: object\n",
      "  nombre  edad  ingreso\n",
      "2    NaN  70.0  20000.0\n",
      "4    NaN   NaN      NaN\n"
     ]
    }
   ],
   "source": [
    "print(datos[\"nombre\"])\n",
    "print(datos[ datos[\"nombre\"].isnull() ])"
   ]
  },
  {
   "cell_type": "code",
   "execution_count": 10,
   "id": "238e03dc",
   "metadata": {
    "scrolled": true
   },
   "outputs": [
    {
     "name": "stdout",
     "output_type": "stream",
     "text": [
      "None\n",
      "   nombre  edad  ingreso\n",
      "0    Juan  35.0  15800.0\n",
      "1   Luisa  25.0  17000.0\n",
      "3  Carmen  49.0  22000.0\n",
      "5   Mario  30.0  15800.0\n",
      "6   Pedro   NaN  17400.0\n"
     ]
    }
   ],
   "source": [
    "# .dropna   Borra los datos nulos\n",
    "print(datos.dropna(subset=[\"nombre\", \"ingreso\"], inplace=True))\n",
    "print(datos)"
   ]
  },
  {
   "cell_type": "code",
   "execution_count": 16,
   "id": "7a11cdc8",
   "metadata": {},
   "outputs": [
    {
     "name": "stdout",
     "output_type": "stream",
     "text": [
      "None\n",
      "   nombre  edad  ingreso\n",
      "0    Juan  35.0  15800.0\n",
      "1   Luisa  25.0  17000.0\n",
      "3  Carmen  49.0  22000.0\n",
      "5   Mario  30.0  15800.0\n"
     ]
    }
   ],
   "source": [
    "# .dropna   Borra los datos nulos\n",
    "print(datos.dropna(subset=[\"nombre\", \"ingreso\", \"edad\"], inplace=True)) # inplace=True es reemplazar\n",
    "print(datos)"
   ]
  },
  {
   "cell_type": "markdown",
   "id": "ec59649e",
   "metadata": {},
   "source": [
    "Vuelvo a cargar los datos para ver nuevamente los datos faltantes"
   ]
  },
  {
   "cell_type": "code",
   "execution_count": 26,
   "id": "1052f1ac",
   "metadata": {},
   "outputs": [
    {
     "data": {
      "text/html": [
       "<div>\n",
       "<style scoped>\n",
       "    .dataframe tbody tr th:only-of-type {\n",
       "        vertical-align: middle;\n",
       "    }\n",
       "\n",
       "    .dataframe tbody tr th {\n",
       "        vertical-align: top;\n",
       "    }\n",
       "\n",
       "    .dataframe thead th {\n",
       "        text-align: right;\n",
       "    }\n",
       "</style>\n",
       "<table border=\"1\" class=\"dataframe\">\n",
       "  <thead>\n",
       "    <tr style=\"text-align: right;\">\n",
       "      <th></th>\n",
       "      <th>nombre</th>\n",
       "      <th>edad</th>\n",
       "      <th>ingreso</th>\n",
       "    </tr>\n",
       "  </thead>\n",
       "  <tbody>\n",
       "    <tr>\n",
       "      <th>0</th>\n",
       "      <td>Juan</td>\n",
       "      <td>35.0</td>\n",
       "      <td>15800.0</td>\n",
       "    </tr>\n",
       "    <tr>\n",
       "      <th>1</th>\n",
       "      <td>Luisa</td>\n",
       "      <td>25.0</td>\n",
       "      <td>17000.0</td>\n",
       "    </tr>\n",
       "    <tr>\n",
       "      <th>2</th>\n",
       "      <td>NaN</td>\n",
       "      <td>70.0</td>\n",
       "      <td>20000.0</td>\n",
       "    </tr>\n",
       "    <tr>\n",
       "      <th>3</th>\n",
       "      <td>Carmen</td>\n",
       "      <td>49.0</td>\n",
       "      <td>22000.0</td>\n",
       "    </tr>\n",
       "    <tr>\n",
       "      <th>4</th>\n",
       "      <td>NaN</td>\n",
       "      <td>NaN</td>\n",
       "      <td>NaN</td>\n",
       "    </tr>\n",
       "    <tr>\n",
       "      <th>5</th>\n",
       "      <td>Mario</td>\n",
       "      <td>30.0</td>\n",
       "      <td>15800.0</td>\n",
       "    </tr>\n",
       "    <tr>\n",
       "      <th>6</th>\n",
       "      <td>Pedro</td>\n",
       "      <td>NaN</td>\n",
       "      <td>17400.0</td>\n",
       "    </tr>\n",
       "    <tr>\n",
       "      <th>7</th>\n",
       "      <td>Gustavo</td>\n",
       "      <td>27.0</td>\n",
       "      <td>NaN</td>\n",
       "    </tr>\n",
       "    <tr>\n",
       "      <th>8</th>\n",
       "      <td>Carlos</td>\n",
       "      <td>NaN</td>\n",
       "      <td>NaN</td>\n",
       "    </tr>\n",
       "  </tbody>\n",
       "</table>\n",
       "</div>"
      ],
      "text/plain": [
       "    nombre  edad  ingreso\n",
       "0     Juan  35.0  15800.0\n",
       "1    Luisa  25.0  17000.0\n",
       "2      NaN  70.0  20000.0\n",
       "3   Carmen  49.0  22000.0\n",
       "4      NaN   NaN      NaN\n",
       "5    Mario  30.0  15800.0\n",
       "6    Pedro   NaN  17400.0\n",
       "7  Gustavo  27.0      NaN\n",
       "8   Carlos   NaN      NaN"
      ]
     },
     "execution_count": 26,
     "metadata": {},
     "output_type": "execute_result"
    }
   ],
   "source": [
    "datos = pd.read_csv(\"datos/clientes.csv\")\n",
    "datos"
   ]
  },
  {
   "cell_type": "code",
   "execution_count": 27,
   "id": "38086f6a",
   "metadata": {
    "scrolled": false
   },
   "outputs": [
    {
     "name": "stdout",
     "output_type": "stream",
     "text": [
      "    nombre  edad  ingreso\n",
      "0     Juan  35.0  15800.0\n",
      "1    Luisa  25.0  17000.0\n",
      "2        0  70.0  20000.0\n",
      "3   Carmen  49.0  22000.0\n",
      "4        0   0.0      0.0\n",
      "5    Mario  30.0  15800.0\n",
      "6    Pedro   0.0  17400.0\n",
      "7  Gustavo  27.0      0.0\n",
      "8   Carlos   0.0      0.0\n"
     ]
    }
   ],
   "source": [
    "print(datos.fillna(0))"
   ]
  },
  {
   "cell_type": "code",
   "execution_count": 28,
   "id": "6721bcb2",
   "metadata": {
    "scrolled": true
   },
   "outputs": [
    {
     "data": {
      "text/html": [
       "<div>\n",
       "<style scoped>\n",
       "    .dataframe tbody tr th:only-of-type {\n",
       "        vertical-align: middle;\n",
       "    }\n",
       "\n",
       "    .dataframe tbody tr th {\n",
       "        vertical-align: top;\n",
       "    }\n",
       "\n",
       "    .dataframe thead th {\n",
       "        text-align: right;\n",
       "    }\n",
       "</style>\n",
       "<table border=\"1\" class=\"dataframe\">\n",
       "  <thead>\n",
       "    <tr style=\"text-align: right;\">\n",
       "      <th></th>\n",
       "      <th>nombre</th>\n",
       "      <th>edad</th>\n",
       "      <th>ingreso</th>\n",
       "    </tr>\n",
       "  </thead>\n",
       "  <tbody>\n",
       "    <tr>\n",
       "      <th>0</th>\n",
       "      <td>Juan</td>\n",
       "      <td>35.0</td>\n",
       "      <td>15800.0</td>\n",
       "    </tr>\n",
       "    <tr>\n",
       "      <th>1</th>\n",
       "      <td>Luisa</td>\n",
       "      <td>25.0</td>\n",
       "      <td>17000.0</td>\n",
       "    </tr>\n",
       "    <tr>\n",
       "      <th>2</th>\n",
       "      <td>DESCONOCIDO</td>\n",
       "      <td>70.0</td>\n",
       "      <td>20000.0</td>\n",
       "    </tr>\n",
       "    <tr>\n",
       "      <th>3</th>\n",
       "      <td>Carmen</td>\n",
       "      <td>49.0</td>\n",
       "      <td>22000.0</td>\n",
       "    </tr>\n",
       "    <tr>\n",
       "      <th>4</th>\n",
       "      <td>DESCONOCIDO</td>\n",
       "      <td>NaN</td>\n",
       "      <td>NaN</td>\n",
       "    </tr>\n",
       "    <tr>\n",
       "      <th>5</th>\n",
       "      <td>Mario</td>\n",
       "      <td>30.0</td>\n",
       "      <td>15800.0</td>\n",
       "    </tr>\n",
       "    <tr>\n",
       "      <th>6</th>\n",
       "      <td>Pedro</td>\n",
       "      <td>NaN</td>\n",
       "      <td>17400.0</td>\n",
       "    </tr>\n",
       "    <tr>\n",
       "      <th>7</th>\n",
       "      <td>Gustavo</td>\n",
       "      <td>27.0</td>\n",
       "      <td>NaN</td>\n",
       "    </tr>\n",
       "    <tr>\n",
       "      <th>8</th>\n",
       "      <td>Carlos</td>\n",
       "      <td>NaN</td>\n",
       "      <td>NaN</td>\n",
       "    </tr>\n",
       "  </tbody>\n",
       "</table>\n",
       "</div>"
      ],
      "text/plain": [
       "        nombre  edad  ingreso\n",
       "0         Juan  35.0  15800.0\n",
       "1        Luisa  25.0  17000.0\n",
       "2  DESCONOCIDO  70.0  20000.0\n",
       "3       Carmen  49.0  22000.0\n",
       "4  DESCONOCIDO   NaN      NaN\n",
       "5        Mario  30.0  15800.0\n",
       "6        Pedro   NaN  17400.0\n",
       "7      Gustavo  27.0      NaN\n",
       "8       Carlos   NaN      NaN"
      ]
     },
     "execution_count": 28,
     "metadata": {},
     "output_type": "execute_result"
    }
   ],
   "source": [
    "datos[\"nombre\"] = datos[\"nombre\"].fillna(\"DESCONOCIDO\")\n",
    "datos"
   ]
  },
  {
   "cell_type": "code",
   "execution_count": 29,
   "id": "cb708cc1",
   "metadata": {},
   "outputs": [
    {
     "data": {
      "text/html": [
       "<div>\n",
       "<style scoped>\n",
       "    .dataframe tbody tr th:only-of-type {\n",
       "        vertical-align: middle;\n",
       "    }\n",
       "\n",
       "    .dataframe tbody tr th {\n",
       "        vertical-align: top;\n",
       "    }\n",
       "\n",
       "    .dataframe thead th {\n",
       "        text-align: right;\n",
       "    }\n",
       "</style>\n",
       "<table border=\"1\" class=\"dataframe\">\n",
       "  <thead>\n",
       "    <tr style=\"text-align: right;\">\n",
       "      <th></th>\n",
       "      <th>nombre</th>\n",
       "      <th>edad</th>\n",
       "      <th>ingreso</th>\n",
       "    </tr>\n",
       "  </thead>\n",
       "  <tbody>\n",
       "    <tr>\n",
       "      <th>0</th>\n",
       "      <td>Juan</td>\n",
       "      <td>35.0</td>\n",
       "      <td>15800.0</td>\n",
       "    </tr>\n",
       "    <tr>\n",
       "      <th>1</th>\n",
       "      <td>Luisa</td>\n",
       "      <td>25.0</td>\n",
       "      <td>17000.0</td>\n",
       "    </tr>\n",
       "    <tr>\n",
       "      <th>2</th>\n",
       "      <td>DESCONOCIDO</td>\n",
       "      <td>70.0</td>\n",
       "      <td>20000.0</td>\n",
       "    </tr>\n",
       "    <tr>\n",
       "      <th>3</th>\n",
       "      <td>Carmen</td>\n",
       "      <td>49.0</td>\n",
       "      <td>22000.0</td>\n",
       "    </tr>\n",
       "    <tr>\n",
       "      <th>4</th>\n",
       "      <td>DESCONOCIDO</td>\n",
       "      <td>Sin registro</td>\n",
       "      <td>NaN</td>\n",
       "    </tr>\n",
       "    <tr>\n",
       "      <th>5</th>\n",
       "      <td>Mario</td>\n",
       "      <td>30.0</td>\n",
       "      <td>15800.0</td>\n",
       "    </tr>\n",
       "    <tr>\n",
       "      <th>6</th>\n",
       "      <td>Pedro</td>\n",
       "      <td>Sin registro</td>\n",
       "      <td>17400.0</td>\n",
       "    </tr>\n",
       "    <tr>\n",
       "      <th>7</th>\n",
       "      <td>Gustavo</td>\n",
       "      <td>27.0</td>\n",
       "      <td>NaN</td>\n",
       "    </tr>\n",
       "    <tr>\n",
       "      <th>8</th>\n",
       "      <td>Carlos</td>\n",
       "      <td>Sin registro</td>\n",
       "      <td>NaN</td>\n",
       "    </tr>\n",
       "  </tbody>\n",
       "</table>\n",
       "</div>"
      ],
      "text/plain": [
       "        nombre          edad  ingreso\n",
       "0         Juan          35.0  15800.0\n",
       "1        Luisa          25.0  17000.0\n",
       "2  DESCONOCIDO          70.0  20000.0\n",
       "3       Carmen          49.0  22000.0\n",
       "4  DESCONOCIDO  Sin registro      NaN\n",
       "5        Mario          30.0  15800.0\n",
       "6        Pedro  Sin registro  17400.0\n",
       "7      Gustavo          27.0      NaN\n",
       "8       Carlos  Sin registro      NaN"
      ]
     },
     "execution_count": 29,
     "metadata": {},
     "output_type": "execute_result"
    }
   ],
   "source": [
    "datos[\"edad\"] = datos[\"edad\"].fillna(\"Sin registro\")\n",
    "datos"
   ]
  },
  {
   "cell_type": "code",
   "execution_count": 30,
   "id": "7367ea4b",
   "metadata": {},
   "outputs": [
    {
     "data": {
      "text/html": [
       "<div>\n",
       "<style scoped>\n",
       "    .dataframe tbody tr th:only-of-type {\n",
       "        vertical-align: middle;\n",
       "    }\n",
       "\n",
       "    .dataframe tbody tr th {\n",
       "        vertical-align: top;\n",
       "    }\n",
       "\n",
       "    .dataframe thead th {\n",
       "        text-align: right;\n",
       "    }\n",
       "</style>\n",
       "<table border=\"1\" class=\"dataframe\">\n",
       "  <thead>\n",
       "    <tr style=\"text-align: right;\">\n",
       "      <th></th>\n",
       "      <th>nombre</th>\n",
       "      <th>edad</th>\n",
       "      <th>ingreso</th>\n",
       "    </tr>\n",
       "  </thead>\n",
       "  <tbody>\n",
       "    <tr>\n",
       "      <th>0</th>\n",
       "      <td>Juan</td>\n",
       "      <td>35.0</td>\n",
       "      <td>15800.0</td>\n",
       "    </tr>\n",
       "    <tr>\n",
       "      <th>1</th>\n",
       "      <td>Luisa</td>\n",
       "      <td>25.0</td>\n",
       "      <td>17000.0</td>\n",
       "    </tr>\n",
       "    <tr>\n",
       "      <th>2</th>\n",
       "      <td>NaN</td>\n",
       "      <td>70.0</td>\n",
       "      <td>20000.0</td>\n",
       "    </tr>\n",
       "    <tr>\n",
       "      <th>3</th>\n",
       "      <td>Carmen</td>\n",
       "      <td>49.0</td>\n",
       "      <td>22000.0</td>\n",
       "    </tr>\n",
       "    <tr>\n",
       "      <th>4</th>\n",
       "      <td>NaN</td>\n",
       "      <td>NaN</td>\n",
       "      <td>NaN</td>\n",
       "    </tr>\n",
       "    <tr>\n",
       "      <th>5</th>\n",
       "      <td>Mario</td>\n",
       "      <td>30.0</td>\n",
       "      <td>15800.0</td>\n",
       "    </tr>\n",
       "    <tr>\n",
       "      <th>6</th>\n",
       "      <td>Pedro</td>\n",
       "      <td>NaN</td>\n",
       "      <td>17400.0</td>\n",
       "    </tr>\n",
       "    <tr>\n",
       "      <th>7</th>\n",
       "      <td>Gustavo</td>\n",
       "      <td>27.0</td>\n",
       "      <td>NaN</td>\n",
       "    </tr>\n",
       "    <tr>\n",
       "      <th>8</th>\n",
       "      <td>Carlos</td>\n",
       "      <td>NaN</td>\n",
       "      <td>NaN</td>\n",
       "    </tr>\n",
       "  </tbody>\n",
       "</table>\n",
       "</div>"
      ],
      "text/plain": [
       "    nombre  edad  ingreso\n",
       "0     Juan  35.0  15800.0\n",
       "1    Luisa  25.0  17000.0\n",
       "2      NaN  70.0  20000.0\n",
       "3   Carmen  49.0  22000.0\n",
       "4      NaN   NaN      NaN\n",
       "5    Mario  30.0  15800.0\n",
       "6    Pedro   NaN  17400.0\n",
       "7  Gustavo  27.0      NaN\n",
       "8   Carlos   NaN      NaN"
      ]
     },
     "execution_count": 30,
     "metadata": {},
     "output_type": "execute_result"
    }
   ],
   "source": [
    "datos = pd.read_csv(\"datos/clientes.csv\")\n",
    "datos"
   ]
  },
  {
   "cell_type": "code",
   "execution_count": 31,
   "id": "d22b0909",
   "metadata": {},
   "outputs": [],
   "source": [
    "Val_defecto = {\"nombre\" : \"Desconocido\"\n",
    "               , \"edad\" : 18,\n",
    "              \"ingreso\" : 1000000}"
   ]
  },
  {
   "cell_type": "code",
   "execution_count": 32,
   "id": "52a1ef12",
   "metadata": {},
   "outputs": [
    {
     "data": {
      "text/html": [
       "<div>\n",
       "<style scoped>\n",
       "    .dataframe tbody tr th:only-of-type {\n",
       "        vertical-align: middle;\n",
       "    }\n",
       "\n",
       "    .dataframe tbody tr th {\n",
       "        vertical-align: top;\n",
       "    }\n",
       "\n",
       "    .dataframe thead th {\n",
       "        text-align: right;\n",
       "    }\n",
       "</style>\n",
       "<table border=\"1\" class=\"dataframe\">\n",
       "  <thead>\n",
       "    <tr style=\"text-align: right;\">\n",
       "      <th></th>\n",
       "      <th>nombre</th>\n",
       "      <th>edad</th>\n",
       "      <th>ingreso</th>\n",
       "    </tr>\n",
       "  </thead>\n",
       "  <tbody>\n",
       "    <tr>\n",
       "      <th>0</th>\n",
       "      <td>Juan</td>\n",
       "      <td>35.0</td>\n",
       "      <td>15800.0</td>\n",
       "    </tr>\n",
       "    <tr>\n",
       "      <th>1</th>\n",
       "      <td>Luisa</td>\n",
       "      <td>25.0</td>\n",
       "      <td>17000.0</td>\n",
       "    </tr>\n",
       "    <tr>\n",
       "      <th>2</th>\n",
       "      <td>Desconocido</td>\n",
       "      <td>70.0</td>\n",
       "      <td>20000.0</td>\n",
       "    </tr>\n",
       "    <tr>\n",
       "      <th>3</th>\n",
       "      <td>Carmen</td>\n",
       "      <td>49.0</td>\n",
       "      <td>22000.0</td>\n",
       "    </tr>\n",
       "    <tr>\n",
       "      <th>4</th>\n",
       "      <td>Desconocido</td>\n",
       "      <td>18.0</td>\n",
       "      <td>1000000.0</td>\n",
       "    </tr>\n",
       "    <tr>\n",
       "      <th>5</th>\n",
       "      <td>Mario</td>\n",
       "      <td>30.0</td>\n",
       "      <td>15800.0</td>\n",
       "    </tr>\n",
       "    <tr>\n",
       "      <th>6</th>\n",
       "      <td>Pedro</td>\n",
       "      <td>18.0</td>\n",
       "      <td>17400.0</td>\n",
       "    </tr>\n",
       "    <tr>\n",
       "      <th>7</th>\n",
       "      <td>Gustavo</td>\n",
       "      <td>27.0</td>\n",
       "      <td>1000000.0</td>\n",
       "    </tr>\n",
       "    <tr>\n",
       "      <th>8</th>\n",
       "      <td>Carlos</td>\n",
       "      <td>18.0</td>\n",
       "      <td>1000000.0</td>\n",
       "    </tr>\n",
       "  </tbody>\n",
       "</table>\n",
       "</div>"
      ],
      "text/plain": [
       "        nombre  edad    ingreso\n",
       "0         Juan  35.0    15800.0\n",
       "1        Luisa  25.0    17000.0\n",
       "2  Desconocido  70.0    20000.0\n",
       "3       Carmen  49.0    22000.0\n",
       "4  Desconocido  18.0  1000000.0\n",
       "5        Mario  30.0    15800.0\n",
       "6        Pedro  18.0    17400.0\n",
       "7      Gustavo  27.0  1000000.0\n",
       "8       Carlos  18.0  1000000.0"
      ]
     },
     "execution_count": 32,
     "metadata": {},
     "output_type": "execute_result"
    }
   ],
   "source": [
    "datos = datos.fillna(value=Val_defecto)\n",
    "datos"
   ]
  },
  {
   "cell_type": "markdown",
   "id": "2fca356d",
   "metadata": {},
   "source": [
    "Estadísticas"
   ]
  },
  {
   "cell_type": "code",
   "execution_count": 34,
   "id": "eb81453a",
   "metadata": {},
   "outputs": [
    {
     "name": "stdout",
     "output_type": "stream",
     "text": [
      "345333.3333333333 20000.0 1000000.0\n"
     ]
    }
   ],
   "source": [
    "promedio = datos[\"ingreso\"].mean()\n",
    "mediana = datos[\"ingreso\"].median()\n",
    "moda = datos[\"ingreso\"].mode()[0]\n",
    "print(promedio, mediana, moda)"
   ]
  },
  {
   "cell_type": "code",
   "execution_count": 35,
   "id": "d9deb137",
   "metadata": {},
   "outputs": [
    {
     "name": "stdout",
     "output_type": "stream",
     "text": [
      "0      15800.0\n",
      "1      17000.0\n",
      "2      20000.0\n",
      "3      22000.0\n",
      "4    1000000.0\n",
      "5      15800.0\n",
      "6      17400.0\n",
      "7    1000000.0\n",
      "8    1000000.0\n",
      "Name: ingreso, dtype: float64\n"
     ]
    }
   ],
   "source": [
    "print(datos[\"ingreso\"].fillna(moda))"
   ]
  }
 ],
 "metadata": {
  "kernelspec": {
   "display_name": "Python 3 (ipykernel)",
   "language": "python",
   "name": "python3"
  },
  "language_info": {
   "codemirror_mode": {
    "name": "ipython",
    "version": 3
   },
   "file_extension": ".py",
   "mimetype": "text/x-python",
   "name": "python",
   "nbconvert_exporter": "python",
   "pygments_lexer": "ipython3",
   "version": "3.9.12"
  }
 },
 "nbformat": 4,
 "nbformat_minor": 5
}
