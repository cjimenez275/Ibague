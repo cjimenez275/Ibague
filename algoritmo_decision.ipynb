{
 "cells": [
  {
   "cell_type": "markdown",
   "id": "c78288e3",
   "metadata": {},
   "source": [
    "#  Algoritmo de actualización de decisiones"
   ]
  },
  {
   "cell_type": "code",
   "execution_count": 37,
   "id": "8ca2ee64",
   "metadata": {},
   "outputs": [],
   "source": [
    "import pandas as pd\n",
    "import random\n",
    "import matplotlib.pyplot as plt   "
   ]
  },
  {
   "cell_type": "markdown",
   "id": "6b68cc82",
   "metadata": {},
   "source": [
    "Se genera un lista con opciones de turismo y etiquetas.\n",
    "Se muestran $n=60$ opciones repartidas en tres categorías"
   ]
  },
  {
   "cell_type": "code",
   "execution_count": 38,
   "id": "90864da2",
   "metadata": {},
   "outputs": [],
   "source": [
    "nombre = [\"museo\",\"rueda loca\",\"estatua\",\"planetario\",\"cascada\",\"cementerio\"]\n",
    "encabezado = [\"Dirección\", \"Etiqueta\"]\n",
    "datos = [[123, \"arte\"], [456, \"aventura\"], [789, \"arquitectura\"], \n",
    "         [123, \"arte\"], [456, \"aventura\"], [789, \"arquitectura\"]]\n",
    "planes = pd.DataFrame(datos, index=nombre, columns=encabezado)\n",
    "n = 60\n",
    "n1 = int(n/3)\n",
    "n2 = int(n/3)\n",
    "n3 = int(n/3)"
   ]
  },
  {
   "cell_type": "markdown",
   "id": "c00e2863",
   "metadata": {},
   "source": [
    "## Al finalizar compilar desde aquí"
   ]
  },
  {
   "cell_type": "code",
   "execution_count": 39,
   "id": "3d1ef9f7",
   "metadata": {},
   "outputs": [
    {
     "name": "stdout",
     "output_type": "stream",
     "text": [
      "Esta es nuestra oferta\n"
     ]
    },
    {
     "data": {
      "image/png": "[encoded data removed]",
      "text/plain": [
       "<Figure size 432x288 with 1 Axes>"
      ]
     },
     "metadata": {
      "needs_background": "light"
     },
     "output_type": "display_data"
    }
   ],
   "source": [
    "plan = []\n",
    "for i in range(n1):\n",
    "    plan.append('arte')\n",
    "for i in range(n2):\n",
    "    plan.append('aventura')\n",
    "for i in range(n3):\n",
    "    plan.append('arquitectura')\n",
    "\n",
    "print(\"Esta es nuestra oferta\")\n",
    "plt.hist(plan)\n",
    "plt.show()"
   ]
  },
  {
   "cell_type": "code",
   "execution_count": 40,
   "id": "b698d32f",
   "metadata": {
    "scrolled": false
   },
   "outputs": [
    {
     "name": "stdout",
     "output_type": "stream",
     "text": [
      "Elige el nombre de una de las siguientes actividades:\n",
      "            Dirección      Etiqueta\n",
      "museo             123          arte\n",
      "rueda loca        456      aventura\n",
      "estatua           789  arquitectura\n",
      "planetario        123          arte\n",
      "cascada           456      aventura\n",
      "cementerio        789  arquitectura\n",
      "planetario\n"
     ]
    }
   ],
   "source": [
    "print(\"Elige el nombre de una de las siguientes actividades:\")\n",
    "print(planes)\n",
    "y = input()\n",
    "x = planes.loc[y][\"Etiqueta\"]"
   ]
  },
  {
   "cell_type": "code",
   "execution_count": 41,
   "id": "9d1de022",
   "metadata": {},
   "outputs": [
    {
     "name": "stdout",
     "output_type": "stream",
     "text": [
      "Esta es nuestra nueva oferta\n"
     ]
    },
    {
     "data": {
      "image/png": "[encoded data removed]",
      "text/plain": [
       "<Figure size 432x288 with 1 Axes>"
      ]
     },
     "metadata": {
      "needs_background": "light"
     },
     "output_type": "display_data"
    },
    {
     "name": "stdout",
     "output_type": "stream",
     "text": [
      "Arte= 36 Aventura= 12 Arquitectura= 12\n"
     ]
    }
   ],
   "source": [
    "if x == \"arte\":\n",
    "    f = int(0.2*min(n2 + n3, n1 + n2, n1 + n3))\n",
    "    n1 = n1 + 2*f\n",
    "    n2 = n2 - f\n",
    "    n3 = n3 - f\n",
    "elif x == 'aventura':\n",
    "    f = int(0.2*min(n2 + n3, n1 + n2, n1 + n3))\n",
    "    n2 = n2 + 2*f\n",
    "    n1 = n1 - f\n",
    "    n3 = n3 - f\n",
    "else:\n",
    "    f = int(0.2*min(n2 + n3, n1 + n2, n1 + n3))\n",
    "    n3 = n3 + 2*f\n",
    "    n2 = n2 - f\n",
    "    n1 = n1 - f\n",
    "if n1 < 0:\n",
    "    n1 = 0\n",
    "if n2 < 0:\n",
    "    n2 = 0.2\n",
    "if n3 < 0:\n",
    "    n3 = 0\n",
    "plan = []\n",
    "for i in range(n1):\n",
    "    plan.append('arte')\n",
    "for i in range(n2):\n",
    "    plan.append('aventura')\n",
    "for i in range(n3):\n",
    "    plan.append('arquitectura')\n",
    "    \n",
    "print(\"Esta es nuestra nueva oferta\")\n",
    "plt.hist(plan)\n",
    "plt.show()\n",
    "print(\"Arte=\", n1, \"Aventura=\", n2, \"Arquitectura=\", n3)"
   ]
  }
 ],
 "metadata": {
  "kernelspec": {
   "display_name": "Python 3 (ipykernel)",
   "language": "python",
   "name": "python3"
  },
  "language_info": {
   "codemirror_mode": {
    "name": "ipython",
    "version": 3
   },
   "file_extension": ".py",
   "mimetype": "text/x-python",
   "name": "python",
   "nbconvert_exporter": "python",
   "pygments_lexer": "ipython3",
   "version": "3.9.12"
  }
 },
 "nbformat": 4,
 "nbformat_minor": 5
}
