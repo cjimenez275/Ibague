{
 "cells": [
  {
   "cell_type": "markdown",
   "id": "48521dcf",
   "metadata": {},
   "source": [
    "Algoritmo que actualiza los números n1, n2 y n3 según las decisiones que se tomen x1, x2 o x3. Se inicia con \n",
    "$n1 = n2 = n3 = 4 = N/3$ , con cada decisión xi se actualiza el número ni aumentando su valor pero manteniendo siempre \n",
    "la condición de que la suma es constante y que nunca son cero.\n"
   ]
  },
  {
   "cell_type": "code",
   "execution_count": 323,
   "id": "8ca2ee64",
   "metadata": {},
   "outputs": [],
   "source": [
    "import pandas as pd\n",
    "import random\n",
    "import matplotlib.pyplot as plt"
   ]
  },
  {
   "cell_type": "code",
   "execution_count": 324,
   "id": "e5e73f63",
   "metadata": {},
   "outputs": [],
   "source": [
    "N = 12\n",
    "n1, n2, n3 = int(N/3), int(N/3), int(N/3)\n",
    "L = [\"x1\", \"x2\", \"x3\"]"
   ]
  },
  {
   "cell_type": "code",
   "execution_count": 325,
   "id": "4c841f6c",
   "metadata": {},
   "outputs": [],
   "source": [
    "x = \"x3\""
   ]
  },
  {
   "cell_type": "code",
   "execution_count": 326,
   "id": "815c5f1e",
   "metadata": {
    "scrolled": true
   },
   "outputs": [],
   "source": [
    "if n1 >= 1 and n2 >= 1 and n3 >= 1: \n",
    "    if n1 < N - 2 and n2 < N - 2 and n3 < N - 2:\n",
    "        if x == \"x1\":\n",
    "            if n2 > 1:\n",
    "                if n3 > 1:\n",
    "                    n1 = n1 + 2\n",
    "                    n2 = n2 - 1\n",
    "                    n3 = n3 - 1\n",
    "                else:\n",
    "                    n1 = n1 + 1\n",
    "                    n2 = n2 - 1\n",
    "                    n3 = n3\n",
    "            else:\n",
    "                n1 = n1 + 1\n",
    "                n2 = n2\n",
    "                n3 = n3 - 1\n",
    "        elif x == \"x2\":\n",
    "            if n1 > 1:\n",
    "                if n3 > 1:\n",
    "                    n2 = n2 + 2\n",
    "                    n1 = n1 - 1\n",
    "                    n3 = n3 - 1\n",
    "                else:\n",
    "                    n2 = n2 + 1\n",
    "                    n1 = n1 - 1\n",
    "                    n3 = n3\n",
    "            else:\n",
    "                n2 = n2 + 1\n",
    "                n1 = n1\n",
    "                n3 = n3 - 1\n",
    "        elif x == \"x3\":\n",
    "            if n2 > 1:\n",
    "                if n3 > 1:\n",
    "                    n3 = n3 + 2\n",
    "                    n2 = n2 - 1\n",
    "                    n1 = n1 - 1\n",
    "                else:\n",
    "                    n3 = n3 + 1\n",
    "                    n2 = n2 - 1\n",
    "                    n1 = n1\n",
    "            else:\n",
    "                n3 = n3 + 1\n",
    "                n2 = n2\n",
    "                n1 = n1 - 1          \n",
    "    elif n1 == N - 2:\n",
    "        if x == \"x2\":\n",
    "            n1 = n1 - 1\n",
    "            n2 = n2 + 1\n",
    "            n3 = n3\n",
    "        elif x == \"x3\":\n",
    "            n1 = n1 - 1\n",
    "            n2 = n2\n",
    "            n3 = n3 + 1\n",
    "        else:\n",
    "            n1 = n1\n",
    "            n2 = n2\n",
    "            n3 = n3\n",
    "\n",
    "    elif n2 == N - 2:\n",
    "        if x == \"x1\":\n",
    "            n2 = n2 - 1\n",
    "            n1 = n1 + 1\n",
    "            n3 = n3\n",
    "        elif x == \"x3\":\n",
    "            n2 = n2 - 1\n",
    "            n1 = n1\n",
    "            n3 = n3 + 1\n",
    "        else:\n",
    "            n1 = n1\n",
    "            n2 = n2\n",
    "            n3 = n3\n",
    "    elif n3 == N - 2:\n",
    "        if x == \"x2\":\n",
    "            n3 = n3 - 1\n",
    "            n2 = n2 + 1\n",
    "            n1 = n1\n",
    "        elif x == \"x1\":\n",
    "            n3 = n3 - 1\n",
    "            n2 = n2\n",
    "            n1 = n1 + 1\n",
    "        else:\n",
    "            n1 = n1\n",
    "            n2 = n2\n",
    "            n3 = n3\n",
    "elif n1 == 0:\n",
    "    n1 = n1 + 2\n",
    "    n2 = n2 - 1\n",
    "    n3 = n3 - 1\n",
    "elif n2 == 0:\n",
    "    n2 = n2 + 2\n",
    "    n1 = n1 - 1\n",
    "    n3 = n3 - 1\n",
    "elif n3 == 0:\n",
    "    n3 = n3 + 2\n",
    "    n2 = n2 - 1\n",
    "    n1 = n1 - 1"
   ]
  },
  {
   "cell_type": "code",
   "execution_count": 330,
   "id": "ab077c55",
   "metadata": {},
   "outputs": [
    {
     "name": "stdout",
     "output_type": "stream",
     "text": [
      "Esta es nuestra oferta\n"
     ]
    },
    {
     "data": {
      "image/png": "[encoded data removed]",
      "text/plain": [
       "<Figure size 432x288 with 1 Axes>"
      ]
     },
     "metadata": {
      "needs_background": "light"
     },
     "output_type": "display_data"
    }
   ],
   "source": [
    "decisiones = []\n",
    "for i in range(n1):\n",
    "    decisiones.append('x1')\n",
    "for i in range(n2):\n",
    "    decisiones.append('x2')\n",
    "for i in range(n3):\n",
    "    decisiones.append('x3')\n",
    "\n",
    "print(\"n1 = \", n1)\n",
    "plt.hist(decisiones)\n",
    "plt.show()"
   ]
  },
  {
   "cell_type": "code",
   "execution_count": null,
   "id": "1afa1134",
   "metadata": {},
   "outputs": [],
   "source": []
  }
 ],
 "metadata": {
  "kernelspec": {
   "display_name": "Python 3 (ipykernel)",
   "language": "python",
   "name": "python3"
  },
  "language_info": {
   "codemirror_mode": {
    "name": "ipython",
    "version": 3
   },
   "file_extension": ".py",
   "mimetype": "text/x-python",
   "name": "python",
   "nbconvert_exporter": "python",
   "pygments_lexer": "ipython3",
   "version": "3.9.12"
  }
 },
 "nbformat": 4,
 "nbformat_minor": 5
}
